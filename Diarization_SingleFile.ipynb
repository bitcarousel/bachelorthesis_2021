{
 "cells": [
  {
   "cell_type": "markdown",
   "id": "rising-freeware",
   "metadata": {},
   "source": [
    "# Jupyter Notebook zu der Bachelor Thesis von Christian Albrecht \"Identifikation der Teilnehmeranzahl in schweizerdeutschen Telefonaufzeichnungen"
   ]
  },
  {
   "cell_type": "markdown",
   "id": "marked-hypothetical",
   "metadata": {},
   "source": [
    "Laden der beiden Test Aufzeichnungen 1270 und mytest1."
   ]
  },
  {
   "cell_type": "code",
   "execution_count": null,
   "id": "operating-wagner",
   "metadata": {},
   "outputs": [],
   "source": [
    "from pyannote.audio.features import RawAudio\n",
    "from IPython.display import Audio\n",
    "arm_file = {'uri': 'd1270', 'audio': '../99_DATASETs/ARCHIMOB/ARCHIMOB_DATA/d1270.wav'}\n",
    "my_file = {'uri': 'mytest1', 'audio': '../99_DATASETs/SINGLE_FILE/mytest1.wav'}\n"
   ]
  },
  {
   "cell_type": "code",
   "execution_count": null,
   "id": "raising-canadian",
   "metadata": {},
   "outputs": [],
   "source": [
    "# Laden der Grundwahrheiten:\n",
    "from pyannote.database.util import load_rttm\n",
    "groundtruth_arm = load_rttm('../99_DATASETs/ARCHIMOB/ARCHIMOB_META/1270_test.rttm')[arm_file['uri']]\n",
    "groundtruth_my = load_rttm('../99_DATASETs/SINGLE_FILE/mytest1.rttm')[my_file['uri']]"
   ]
  },
  {
   "cell_type": "markdown",
   "id": "acknowledged-parker",
   "metadata": {},
   "source": [
    "Die folgenden Befehle können benutzt werden um in den Grafiken nur ein Bereicht anzuzeigen."
   ]
  },
  {
   "cell_type": "code",
   "execution_count": null,
   "id": "painful-auditor",
   "metadata": {},
   "outputs": [],
   "source": [
    "from pyannote.core import Segment, notebook\n",
    "# make notebook visualization zoom on 0 < t < 150s time range\n",
    "EXCERPT = Segment(0, 500)\n",
    "notebook.crop = EXCERPT"
   ]
  },
  {
   "cell_type": "code",
   "execution_count": null,
   "id": "sustained-rental",
   "metadata": {},
   "outputs": [],
   "source": [
    "groundtruth_arm"
   ]
  },
  {
   "cell_type": "code",
   "execution_count": null,
   "id": "involved-frontier",
   "metadata": {},
   "outputs": [],
   "source": [
    "groundtruth_my"
   ]
  },
  {
   "cell_type": "markdown",
   "id": "indirect-phone",
   "metadata": {},
   "source": [
    "# Test von eigenen Audio Dateien"
   ]
  },
  {
   "cell_type": "markdown",
   "id": "linear-wheat",
   "metadata": {},
   "source": [
    "Damit eigene Audiodateien getestet werden können \n",
    "__Ersetzen von arm_file mit my_file im restlichen Notebook !!!__ \n",
    "\n",
    "Wenn es kein Groundtruth File zu dem eigenen File gibt kann diese natrürlich auch nicht angezeigt werden. "
   ]
  },
  {
   "cell_type": "markdown",
   "id": "active-explanation",
   "metadata": {},
   "source": [
    "# Selbst Trainiertes Model auf ArchiMob Datensatz"
   ]
  },
  {
   "cell_type": "code",
   "execution_count": null,
   "id": "fifth-habitat",
   "metadata": {},
   "outputs": [],
   "source": [
    "sad_scores = \"../97_PYANNOTE/pyannote-audio/tutorials/finetune/sad/train/ARM.SpeakerDiarization.ArchiMob.train/weights/0010.pt\"\n",
    "scd_scores = \"../97_PYANNOTE/pyannote-audio/tutorials/finetune/scd/train/ARM.SpeakerDiarization.ArchiMob.train/weights/0028.pt\"\n",
    "emb_scores = \"../97_PYANNOTE/pyannote-audio/tutorials/finetune/emb/train/ARM.SpeakerDiarization.ArchiMob.train/weights/0016.pt\"\n",
    "method = \"affinity_propagation\""
   ]
  },
  {
   "cell_type": "code",
   "execution_count": null,
   "id": "daily-blink",
   "metadata": {},
   "outputs": [],
   "source": [
    "from pyannote.audio.pipeline.speaker_diarization import SpeakerDiarization"
   ]
  },
  {
   "cell_type": "code",
   "execution_count": null,
   "id": "massive-following",
   "metadata": {},
   "outputs": [],
   "source": [
    "pipeline_self = SpeakerDiarization(\n",
    "    sad_scores = {sad_scores: {'step': 0.1}},\n",
    "    scd_scores = {scd_scores: {'step': 0.1}},\n",
    "    embedding = {emb_scores: {'step': 0.1}},\n",
    "    method=method)"
   ]
  },
  {
   "cell_type": "code",
   "execution_count": null,
   "id": "wrong-singles",
   "metadata": {},
   "outputs": [],
   "source": [
    "params_file = \"../97_PYANNOTE/pyannote-audio/tutorials/pipelines/speaker_diarization/train/ARM.SpeakerDiarization.ArchiMob.development/params.yml\""
   ]
  },
  {
   "cell_type": "code",
   "execution_count": null,
   "id": "ceramic-majority",
   "metadata": {},
   "outputs": [],
   "source": [
    "pipeline_self.load_params(params_file)"
   ]
  },
  {
   "cell_type": "code",
   "execution_count": null,
   "id": "minute-screening",
   "metadata": {},
   "outputs": [],
   "source": [
    "%%time\n",
    "diarization_self_arm = pipeline_self(arm_file)\n",
    "diarization_self_my = pipeline_self(my_file)"
   ]
  },
  {
   "cell_type": "code",
   "execution_count": null,
   "id": "loving-penetration",
   "metadata": {},
   "outputs": [],
   "source": [
    "diarization_self_arm"
   ]
  },
  {
   "cell_type": "code",
   "execution_count": null,
   "id": "hundred-mounting",
   "metadata": {},
   "outputs": [],
   "source": [
    "diarization_self_my"
   ]
  },
  {
   "cell_type": "markdown",
   "id": "structural-recommendation",
   "metadata": {},
   "source": [
    "# Vergleiche Groundtruth / Diarization ArchiMob"
   ]
  },
  {
   "cell_type": "code",
   "execution_count": null,
   "id": "statewide-capability",
   "metadata": {},
   "outputs": [],
   "source": [
    "from pyannote.metrics.diarization import DiarizationErrorRate\n",
    "metric_self = DiarizationErrorRate()\n",
    "der_self_arm = metric_self(groundtruth_arm, diarization_self_arm)\n",
    "der_self_my = metric_self(groundtruth_my, diarization_self_my)"
   ]
  },
  {
   "cell_type": "code",
   "execution_count": null,
   "id": "floating-series",
   "metadata": {},
   "outputs": [],
   "source": [
    "print(f'diarization error rate self archimob_arm = {100 * der_self_arm:.1f}%')"
   ]
  },
  {
   "cell_type": "code",
   "execution_count": null,
   "id": "warming-unemployment",
   "metadata": {},
   "outputs": [],
   "source": [
    "print(f'diarization error rate self archimob_my = {100 * der_self_my:.1f}%')"
   ]
  },
  {
   "cell_type": "markdown",
   "id": "miniature-swift",
   "metadata": {},
   "source": [
    "# Pre-trainiertes Model auf AMI Datensatz"
   ]
  },
  {
   "cell_type": "code",
   "execution_count": null,
   "id": "acceptable-initial",
   "metadata": {},
   "outputs": [],
   "source": [
    "%%time\n",
    "import torch\n",
    "pipeline_pretrain_ami = torch.hub.load('pyannote/pyannote-audio', 'dia_ami')\n",
    "diarization_pretrain_ami_arm = pipeline_pretrain_ami(arm_file)\n",
    "diarization_pretrain_ami_my = pipeline_pretrain_ami(my_file)"
   ]
  },
  {
   "cell_type": "code",
   "execution_count": null,
   "id": "considered-girlfriend",
   "metadata": {},
   "outputs": [],
   "source": [
    "diarization_pretrain_ami_arm"
   ]
  },
  {
   "cell_type": "code",
   "execution_count": null,
   "id": "lonely-sound",
   "metadata": {},
   "outputs": [],
   "source": [
    "diarization_pretrain_ami_my"
   ]
  },
  {
   "cell_type": "markdown",
   "id": "annoying-monte",
   "metadata": {},
   "source": [
    "# Vergleich Groundtruth / Diarization AMI"
   ]
  },
  {
   "cell_type": "code",
   "execution_count": null,
   "id": "ceramic-berry",
   "metadata": {},
   "outputs": [],
   "source": [
    "from pyannote.metrics.diarization import DiarizationErrorRate\n",
    "metric_pretrain_ami = DiarizationErrorRate()\n",
    "der_pretrain_ami_arm = metric_pretrain_ami(groundtruth_arm, diarization_pretrain_ami_arm)\n",
    "der_pretrain_ami_my = metric_pretrain_ami(groundtruth_my, diarization_pretrain_ami_my)"
   ]
  },
  {
   "cell_type": "code",
   "execution_count": null,
   "id": "thorough-warehouse",
   "metadata": {},
   "outputs": [],
   "source": [
    "print(f'diarization error rate pretrain ami_arm = {100 * der_pretrain_ami_arm:.1f}%')"
   ]
  },
  {
   "cell_type": "code",
   "execution_count": null,
   "id": "concerned-regular",
   "metadata": {},
   "outputs": [],
   "source": [
    "print(f'diarization error rate pretrain ami_my = {100 * der_pretrain_ami_my:.1f}%')"
   ]
  },
  {
   "cell_type": "markdown",
   "id": "loaded-disposal",
   "metadata": {},
   "source": [
    "# Pre-trainiertes Model auf DIHARD Datensatz"
   ]
  },
  {
   "cell_type": "code",
   "execution_count": null,
   "id": "latin-stephen",
   "metadata": {},
   "outputs": [],
   "source": [
    "%%time\n",
    "import torch\n",
    "pipeline_pretrain_dihard = torch.hub.load('pyannote/pyannote-audio', 'dia_dihard')\n",
    "diarization_pretrain_dihard_arm = pipeline_pretrain_dihard(arm_file)\n",
    "diarization_pretrain_dihard_my = pipeline_pretrain_dihard(my_file)"
   ]
  },
  {
   "cell_type": "code",
   "execution_count": null,
   "id": "passing-cedar",
   "metadata": {},
   "outputs": [],
   "source": [
    "diarization_pretrain_dihard_arm"
   ]
  },
  {
   "cell_type": "code",
   "execution_count": null,
   "id": "conservative-slide",
   "metadata": {},
   "outputs": [],
   "source": [
    "diarization_pretrain_dihard_my"
   ]
  },
  {
   "cell_type": "code",
   "execution_count": null,
   "id": "guided-appreciation",
   "metadata": {},
   "outputs": [],
   "source": [
    "from pyannote.metrics.diarization import DiarizationErrorRate\n",
    "metric_pretrain_dihard = DiarizationErrorRate()\n",
    "der_pretrain_dihard_arm = metric_pretrain_dihard(groundtruth_arm, diarization_pretrain_dihard_arm)\n",
    "der_pretrain_dihard_my = metric_pretrain_dihard(groundtruth_my, diarization_pretrain_dihard_my)"
   ]
  },
  {
   "cell_type": "code",
   "execution_count": null,
   "id": "finite-restaurant",
   "metadata": {},
   "outputs": [],
   "source": [
    "print(f'diarization error rate pretrain dihard_arm = {100 * der_pretrain_dihard_arm:.1f}%')"
   ]
  },
  {
   "cell_type": "code",
   "execution_count": null,
   "id": "breathing-shower",
   "metadata": {},
   "outputs": [],
   "source": [
    "print(f'diarization error rate pretrain dihard_my = {100 * der_pretrain_dihard_my:.1f}%')"
   ]
  },
  {
   "cell_type": "markdown",
   "id": "creative-cosmetic",
   "metadata": {},
   "source": [
    "# Vergleich ArchiMob / AMI "
   ]
  },
  {
   "cell_type": "code",
   "execution_count": null,
   "id": "boring-packing",
   "metadata": {},
   "outputs": [],
   "source": [
    "print(f'diarization error rate self archimob_arm = {100 * der_self_arm:.1f}%')\n",
    "print(f'diarization error rate self archimob_my = {100 * der_self_my:.1f}%')\n",
    "print(f'-------')\n",
    "print(f'diarization error rate pretrain ami_arm = {100 * der_pretrain_ami_arm:.1f}%')\n",
    "print(f'diarization error rate pretrain ami_my = {100 * der_pretrain_ami_my:.1f}%')\n",
    "print(f'-------')\n",
    "print(f'diarization error rate pretrain dihard_arm = {100 * der_pretrain_dihard_arm:.1f}%')\n",
    "print(f'diarization error rate pretrain dihard_my = {100 * der_pretrain_dihard_my:.1f}%')"
   ]
  },
  {
   "cell_type": "markdown",
   "id": "noble-jersey",
   "metadata": {},
   "source": [
    "# ARM - SELF"
   ]
  },
  {
   "cell_type": "code",
   "execution_count": null,
   "id": "defensive-window",
   "metadata": {},
   "outputs": [],
   "source": [
    "groundtruth_arm"
   ]
  },
  {
   "cell_type": "code",
   "execution_count": null,
   "id": "exempt-consultancy",
   "metadata": {},
   "outputs": [],
   "source": [
    "diarization_self_arm"
   ]
  },
  {
   "cell_type": "code",
   "execution_count": null,
   "id": "paperback-catalyst",
   "metadata": {},
   "outputs": [],
   "source": [
    "print(f'diarization error rate self archimob_arm = {100 * der_self_arm:.1f}%')"
   ]
  },
  {
   "cell_type": "markdown",
   "id": "responsible-buying",
   "metadata": {},
   "source": [
    "# ------------------------------------------------"
   ]
  },
  {
   "cell_type": "markdown",
   "id": "southeast-leave",
   "metadata": {},
   "source": [
    "# MY - SELF"
   ]
  },
  {
   "cell_type": "code",
   "execution_count": null,
   "id": "silent-network",
   "metadata": {},
   "outputs": [],
   "source": [
    "groundtruth_my"
   ]
  },
  {
   "cell_type": "code",
   "execution_count": null,
   "id": "retired-spain",
   "metadata": {},
   "outputs": [],
   "source": [
    "diarization_self_my"
   ]
  },
  {
   "cell_type": "code",
   "execution_count": null,
   "id": "handy-michael",
   "metadata": {},
   "outputs": [],
   "source": [
    "print(f'diarization error rate self archimob_my = {100 * der_self_my:.1f}%')"
   ]
  },
  {
   "cell_type": "markdown",
   "id": "played-correlation",
   "metadata": {},
   "source": [
    "# ----------------------------------------------"
   ]
  },
  {
   "cell_type": "markdown",
   "id": "better-forge",
   "metadata": {},
   "source": [
    "# ARM - AMI"
   ]
  },
  {
   "cell_type": "code",
   "execution_count": null,
   "id": "private-temperature",
   "metadata": {},
   "outputs": [],
   "source": [
    "groundtruth_arm"
   ]
  },
  {
   "cell_type": "code",
   "execution_count": null,
   "id": "cordless-blank",
   "metadata": {},
   "outputs": [],
   "source": [
    "diarization_pretrain_ami_arm"
   ]
  },
  {
   "cell_type": "code",
   "execution_count": null,
   "id": "capital-interim",
   "metadata": {},
   "outputs": [],
   "source": [
    "print(f'diarization error rate pretrain ami_arm = {100 * der_pretrain_ami_arm:.1f}%')"
   ]
  },
  {
   "cell_type": "markdown",
   "id": "piano-utilization",
   "metadata": {},
   "source": [
    "# MY - AMI"
   ]
  },
  {
   "cell_type": "code",
   "execution_count": null,
   "id": "vulnerable-commercial",
   "metadata": {},
   "outputs": [],
   "source": [
    "groundtruth_my"
   ]
  },
  {
   "cell_type": "code",
   "execution_count": null,
   "id": "religious-transportation",
   "metadata": {},
   "outputs": [],
   "source": [
    "diarization_pretrain_ami_my"
   ]
  },
  {
   "cell_type": "code",
   "execution_count": null,
   "id": "blocked-constant",
   "metadata": {},
   "outputs": [],
   "source": [
    "print(f'diarization error rate pretrain ami_my = {100 * der_pretrain_ami_my:.1f}%')"
   ]
  },
  {
   "cell_type": "markdown",
   "id": "actual-beach",
   "metadata": {},
   "source": [
    "# ARM - DIHARD"
   ]
  },
  {
   "cell_type": "code",
   "execution_count": null,
   "id": "reported-demonstration",
   "metadata": {},
   "outputs": [],
   "source": [
    "groundtruth_arm"
   ]
  },
  {
   "cell_type": "code",
   "execution_count": null,
   "id": "trying-repeat",
   "metadata": {},
   "outputs": [],
   "source": [
    "diarization_pretrain_dihard_arm"
   ]
  },
  {
   "cell_type": "code",
   "execution_count": null,
   "id": "crucial-relationship",
   "metadata": {},
   "outputs": [],
   "source": [
    "print(f'diarization error rate pretrain dihard_arm = {100 * der_pretrain_dihard_arm:.1f}%')"
   ]
  },
  {
   "cell_type": "markdown",
   "id": "fabulous-webcam",
   "metadata": {},
   "source": [
    "# MY - DIHARD"
   ]
  },
  {
   "cell_type": "code",
   "execution_count": null,
   "id": "discrete-dublin",
   "metadata": {},
   "outputs": [],
   "source": [
    "groundtruth_my"
   ]
  },
  {
   "cell_type": "code",
   "execution_count": null,
   "id": "attended-universal",
   "metadata": {},
   "outputs": [],
   "source": [
    "diarization_pretrain_dihard_my"
   ]
  },
  {
   "cell_type": "code",
   "execution_count": null,
   "id": "psychological-seven",
   "metadata": {},
   "outputs": [],
   "source": [
    "print(f'diarization error rate pretrain dihard_my = {100 * der_pretrain_dihard_my:.1f}%')"
   ]
  },
  {
   "cell_type": "code",
   "execution_count": null,
   "id": "narrow-buffalo",
   "metadata": {},
   "outputs": [],
   "source": []
  }
 ],
 "metadata": {
  "kernelspec": {
   "display_name": "Python 3",
   "language": "python",
   "name": "python3"
  },
  "language_info": {
   "codemirror_mode": {
    "name": "ipython",
    "version": 3
   },
   "file_extension": ".py",
   "mimetype": "text/x-python",
   "name": "python",
   "nbconvert_exporter": "python",
   "pygments_lexer": "ipython3",
   "version": "3.6.8"
  }
 },
 "nbformat": 4,
 "nbformat_minor": 5
}
